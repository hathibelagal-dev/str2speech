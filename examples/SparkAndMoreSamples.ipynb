{
  "nbformat": 4,
  "nbformat_minor": 0,
  "metadata": {
    "colab": {
      "provenance": [],
      "gpuType": "T4"
    },
    "kernelspec": {
      "name": "python3",
      "display_name": "Python 3"
    },
    "language_info": {
      "name": "python"
    },
    "accelerator": "GPU"
  },
  "cells": [
    {
      "cell_type": "code",
      "source": [
        "import os\n",
        "from google.colab import userdata\n",
        "os.environ[\"HF_TOKEN\"] = userdata.get('HF_TOKEN')"
      ],
      "metadata": {
        "id": "lhwxXzA91zLo"
      },
      "execution_count": 2,
      "outputs": []
    },
    {
      "cell_type": "code",
      "source": [
        "!pip3 install str2speech"
      ],
      "metadata": {
        "id": "5EgexBcY17Ek"
      },
      "execution_count": null,
      "outputs": []
    },
    {
      "cell_type": "code",
      "source": [
        "!str2speech --model \"SparkAudio/Spark-TTS-0.5B\" \\\n",
        "        --text \"Hello from Spark\" \\\n",
        "        --output \"sparktest.wav\""
      ],
      "metadata": {
        "id": "fPaoHrjw2WfQ"
      },
      "execution_count": null,
      "outputs": []
    },
    {
      "cell_type": "code",
      "source": [
        "!str2speech --text \"Hello from Sesame\" --model \"sesame/csm-1b\""
      ],
      "metadata": {
        "id": "RH6gmhnS29nX"
      },
      "execution_count": null,
      "outputs": []
    },
    {
      "cell_type": "code",
      "source": [
        "!str2speech --text \"Hello from Zonos\" \\\n",
        "    --model \"Zyphra/Zonos-v0.1-transformer\" \\\n",
        "    --output zonostest.wav"
      ],
      "metadata": {
        "id": "sHXpOER437we"
      },
      "execution_count": null,
      "outputs": []
    },
    {
      "cell_type": "code",
      "source": [
        "!str2speech --model kokoro --text \"And I love Kokoro\" --output kokorotest.wav"
      ],
      "metadata": {
        "id": "5-2Szef45J6Q"
      },
      "execution_count": null,
      "outputs": []
    }
  ]
}