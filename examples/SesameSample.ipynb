{
  "nbformat": 4,
  "nbformat_minor": 0,
  "metadata": {
    "colab": {
      "provenance": [],
      "gpuType": "T4"
    },
    "kernelspec": {
      "name": "python3",
      "display_name": "Python 3"
    },
    "language_info": {
      "name": "python"
    },
    "accelerator": "GPU"
  },
  "cells": [
    {
      "cell_type": "markdown",
      "source": [
        "Install str2speech using `pip`."
      ],
      "metadata": {
        "id": "k081ByTjQFbv"
      }
    },
    {
      "cell_type": "code",
      "execution_count": null,
      "metadata": {
        "id": "q7u3XIlBPoFc"
      },
      "outputs": [],
      "source": [
        "!pip3 install str2speech"
      ]
    },
    {
      "cell_type": "markdown",
      "source": [
        "Need that HF_TOKEN because Sesame is a gated model."
      ],
      "metadata": {
        "id": "PTSdFaJaP7dK"
      }
    },
    {
      "cell_type": "code",
      "source": [
        "import os\n",
        "from google.colab import userdata\n",
        "os.environ[\"HF_TOKEN\"] = userdata.get('HF_TOKEN')"
      ],
      "metadata": {
        "id": "6gSNxXxEP0Kx"
      },
      "execution_count": 2,
      "outputs": []
    },
    {
      "cell_type": "markdown",
      "source": [
        "And now you can use Sesame like any other model."
      ],
      "metadata": {
        "id": "Oyy36R9NZsiW"
      }
    },
    {
      "cell_type": "code",
      "source": [
        "!str2speech --text \"Hello from Sesame.\" --model \"Sesame/CSM-1B\""
      ],
      "metadata": {
        "id": "g2s1QRSNPrZ0"
      },
      "execution_count": null,
      "outputs": []
    },
    {
      "cell_type": "code",
      "source": [
        "from IPython.display import Audio, display\n",
        "display(Audio('output.wav'))"
      ],
      "metadata": {
        "id": "AffnJQw1aKb5"
      },
      "execution_count": null,
      "outputs": []
    }
  ]
}