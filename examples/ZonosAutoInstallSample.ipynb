{
  "nbformat": 4,
  "nbformat_minor": 0,
  "metadata": {
    "colab": {
      "provenance": [],
      "gpuType": "T4"
    },
    "kernelspec": {
      "name": "python3",
      "display_name": "Python 3"
    },
    "language_info": {
      "name": "python"
    },
    "accelerator": "GPU"
  },
  "cells": [
    {
      "cell_type": "code",
      "source": [
        "!pip3 install str2speech"
      ],
      "metadata": {
        "id": "HxMICVcZnrrH"
      },
      "execution_count": null,
      "outputs": []
    },
    {
      "cell_type": "markdown",
      "source": [
        "In the following step, `str2speech` will attempt to install Zonos. You will have to run this step twice:\n",
        "\n",
        "- Once to install Zonos\n",
        "- Once to actually generate audio using Zonos"
      ],
      "metadata": {
        "id": "cNZdXAeRnYDk"
      }
    },
    {
      "cell_type": "code",
      "source": [
        "!str2speech \\\n",
        "  --text \"We are now testing one of the best models available yet.\" \\\n",
        "  --model \"Zyphra/Zonos-v0.1-transformer\""
      ],
      "metadata": {
        "id": "0aTj7eqOn3Qg"
      },
      "execution_count": null,
      "outputs": []
    },
    {
      "cell_type": "code",
      "source": [
        "from IPython.display import Audio, display\n",
        "display(Audio('output.wav'))"
      ],
      "metadata": {
        "id": "uUTXeWzxpyh2"
      },
      "execution_count": null,
      "outputs": []
    }
  ]
}