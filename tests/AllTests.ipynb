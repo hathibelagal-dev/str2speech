{
  "nbformat": 4,
  "nbformat_minor": 0,
  "metadata": {
    "colab": {
      "provenance": []
    },
    "kernelspec": {
      "name": "python3",
      "display_name": "Python 3"
    },
    "language_info": {
      "name": "python"
    }
  },
  "cells": [
    {
      "cell_type": "code",
      "source": [
        "!pip3 install str2speech\n",
        "!pip3 list | grep str2speech"
      ],
      "metadata": {
        "id": "wwfxR5KrDSwl"
      },
      "execution_count": null,
      "outputs": []
    },
    {
      "cell_type": "code",
      "source": [
        "import os\n",
        "from google.colab import userdata\n",
        "hf_token = userdata.get('HF_TOKEN')\n",
        "os.environ['HF_TOKEN'] = hf_token"
      ],
      "metadata": {
        "id": "YcHDLSCREUIb"
      },
      "execution_count": 2,
      "outputs": []
    },
    {
      "cell_type": "code",
      "source": [
        "!str2speech --text \"Hello from Sesame\" --model \"sesame/csm-1b\""
      ],
      "metadata": {
        "id": "nya4oMg4OZ3W"
      },
      "execution_count": null,
      "outputs": []
    },
    {
      "cell_type": "code",
      "source": [
        "# Run to install Zonos\n",
        "!str2speech --text \"Hello from Sesame\" \\\n",
        "  --model \"zyphra/zonos-v0.1-transformer\" --output zonosoutput.wav"
      ],
      "metadata": {
        "id": "DTsvu2D0HdyC"
      },
      "execution_count": null,
      "outputs": []
    },
    {
      "cell_type": "code",
      "source": [
        "# Actual run\n",
        "!str2speech --text \"Hello from Zonos\" \\\n",
        "  --model \"zyphra/zonos-v0.1-transformer\" --output zonosoutput.wav"
      ],
      "metadata": {
        "id": "Yqk3-ko_NO3H"
      },
      "execution_count": null,
      "outputs": []
    },
    {
      "cell_type": "code",
      "source": [
        "!str2speech --text \"Kokoro is love\" \\\n",
        "  --model \"kokoro\" --output kokorooutput.wav"
      ],
      "metadata": {
        "id": "agBZy_ONPZni"
      },
      "execution_count": null,
      "outputs": []
    },
    {
      "cell_type": "code",
      "source": [
        "!str2speech --text \"This is an old model, but it checks out.\" \\\n",
        "  --model \"facebook/mms-tts-eng\" --output mmsttsoutput.wav"
      ],
      "metadata": {
        "id": "IOZkmEdDQ_FW"
      },
      "execution_count": null,
      "outputs": []
    },
    {
      "cell_type": "code",
      "source": [
        "!str2speech --text \"This is a strange model that can also generate music, sometimes.\" \\\n",
        "  --model \"suno/bark-small\" --output barksmalloutput.wav"
      ],
      "metadata": {
        "id": "ESGhjyWKRdAN"
      },
      "execution_count": null,
      "outputs": []
    }
  ]
}